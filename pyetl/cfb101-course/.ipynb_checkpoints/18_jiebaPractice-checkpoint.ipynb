{
 "cells": [
  {
   "cell_type": "code",
   "execution_count": 1,
   "id": "5af4690b",
   "metadata": {},
   "outputs": [
    {
     "name": "stdout",
     "output_type": "stream",
     "text": [
      "Collecting jieba\n",
      "  Using cached https://files.pythonhosted.org/packages/c6/cb/18eeb235f833b726522d7ebed54f2278ce28ba9438e3135ab0278d9792a2/jieba-0.42.1.tar.gz\n",
      "Installing collected packages: jieba\n",
      "  Running setup.py install for jieba ... \u001b[?25ldone\n",
      "\u001b[?25hSuccessfully installed jieba-0.42.1\n"
     ]
    }
   ],
   "source": [
    "!pip install jieba"
   ]
  },
  {
   "cell_type": "code",
   "execution_count": null,
   "id": "f9aa4830",
   "metadata": {},
   "outputs": [],
   "source": [
    "import jieba\n",
    "\n",
    "s = \"大家好，我叫小賀，來自台北，今天來中壢大數據班上課覺得很開心。\"\n",
    "\n",
    "s1List = jieba.cut(s, cut_all=True)\n",
    "s2List = jieba.cut(s, cut_all=False)\n",
    "s3List = jieba.cut(s)\n",
    "s4List = jieba.cut_for_search(s)\n",
    "\n",
    "print(' | '.join(s1List))\n",
    "print(' | '.join(s2List))\n",
    "print(' | '.join(s3List))\n",
    "print(' | '.join(s4List))"
   ]
  }
 ],
 "metadata": {
  "kernelspec": {
   "display_name": "Python 3",
   "language": "python",
   "name": "python3"
  },
  "language_info": {
   "codemirror_mode": {
    "name": "ipython",
    "version": 3
   },
   "file_extension": ".py",
   "mimetype": "text/x-python",
   "name": "python",
   "nbconvert_exporter": "python",
   "pygments_lexer": "ipython3",
   "version": "3.7.0"
  }
 },
 "nbformat": 4,
 "nbformat_minor": 5
}
