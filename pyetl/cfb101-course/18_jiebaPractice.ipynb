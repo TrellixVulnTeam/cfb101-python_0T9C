{
 "cells": [
  {
   "cell_type": "code",
   "execution_count": 1,
   "id": "f8b05ae1",
   "metadata": {},
   "outputs": [
    {
     "name": "stdout",
     "output_type": "stream",
     "text": [
      "Collecting jieba\n",
      "  Using cached https://files.pythonhosted.org/packages/c6/cb/18eeb235f833b726522d7ebed54f2278ce28ba9438e3135ab0278d9792a2/jieba-0.42.1.tar.gz\n",
      "Installing collected packages: jieba\n",
      "  Running setup.py install for jieba ... \u001b[?25ldone\n",
      "\u001b[?25hSuccessfully installed jieba-0.42.1\n"
     ]
    }
   ],
   "source": [
    "!pip install jieba"
   ]
  },
  {
   "cell_type": "code",
   "execution_count": 2,
   "id": "5bce5d6f",
   "metadata": {},
   "outputs": [
    {
     "name": "stderr",
     "output_type": "stream",
     "text": [
      "Building prefix dict from the default dictionary ...\n",
      "Dumping model to file cache /var/folders/bv/8bbkzq895db366kq27vw262r0000gn/T/jieba.cache\n",
      "Loading model cost 1.180 seconds.\n",
      "Prefix dict has been built successfully.\n"
     ]
    },
    {
     "name": "stdout",
     "output_type": "stream",
     "text": [
      "大家 | 好 | ， | 我 | 叫 | 小 | 賀 | ， | 來 | 自 | 台北 | ， | 今天 | 來 | 中 | 壢 | 大 | 數 | 據 | 班上 | 課 | 覺 | 得 | 很 | 開 | 心 | 。\n",
      "大家 | 好 | ， | 我 | 叫 | 小賀 | ， | 來 | 自 | 台北 | ， | 今天 | 來 | 中壢 | 大數據 | 班上 | 課覺 | 得 | 很 | 開心 | 。\n",
      "大家 | 好 | ， | 我 | 叫 | 小賀 | ， | 來 | 自 | 台北 | ， | 今天 | 來 | 中壢 | 大數據 | 班上 | 課覺 | 得 | 很 | 開心 | 。\n",
      "大家 | 好 | ， | 我 | 叫 | 小賀 | ， | 來 | 自 | 台北 | ， | 今天 | 來 | 中壢 | 大數據 | 班上 | 課覺 | 得 | 很 | 開心 | 。\n"
     ]
    }
   ],
   "source": [
    "import jieba\n",
    "\n",
    "s = \"大家好，我叫小賀，來自台北，今天來中壢大數據班上課覺得很開心。\"\n",
    "\n",
    "s1List = jieba.cut(s, cut_all=True)\n",
    "s2List = jieba.cut(s, cut_all=False)\n",
    "s3List = jieba.cut(s)\n",
    "s4List = jieba.cut_for_search(s)\n",
    "\n",
    "print(' | '.join(s1List))\n",
    "print(' | '.join(s2List))\n",
    "print(' | '.join(s3List))\n",
    "print(' | '.join(s4List))"
   ]
  },
  {
   "cell_type": "code",
   "execution_count": 4,
   "id": "25e2e1dd",
   "metadata": {},
   "outputs": [
    {
     "name": "stdout",
     "output_type": "stream",
     "text": [
      "大家 | 好 | ， | 我 | 叫 | 小 | 賀 | ， | 來 | 自 | 台北 | ， | 今天 | 來 | 中 | 壢 | 大數據 | 大數據班 | 班上 | 課 | 覺 | 得 | 很 | 開 | 心 | 。\n",
      "大家 | 好 | ， | 我 | 叫 | 小賀 | ， | 來 | 自 | 台北 | ， | 今天 | 來 | 中壢 | 大數據班 | 上 | 課覺 | 得 | 很 | 開心 | 。\n",
      "大家 | 好 | ， | 我 | 叫 | 小賀 | ， | 來 | 自 | 台北 | ， | 今天 | 來 | 中壢 | 大數據班 | 上 | 課覺 | 得 | 很 | 開心 | 。\n",
      "大家 | 好 | ， | 我 | 叫 | 小賀 | ， | 來 | 自 | 台北 | ， | 今天 | 來 | 中壢 | 大數據 | 大數據班 | 上 | 課覺 | 得 | 很 | 開心 | 。\n"
     ]
    }
   ],
   "source": [
    "jieba.load_userdict('./mydict.txt')\n",
    "\n",
    "s = \"大家好，我叫小賀，來自台北，今天來中壢大數據班上課覺得很開心。\"\n",
    "\n",
    "s1List = jieba.cut(s, cut_all=True)\n",
    "s2List = jieba.cut(s, cut_all=False)\n",
    "s3List = jieba.cut(s)\n",
    "s4List = jieba.cut_for_search(s)\n",
    "\n",
    "print(' | '.join(s1List))\n",
    "print(' | '.join(s2List))\n",
    "print(' | '.join(s3List))\n",
    "print(' | '.join(s4List))"
   ]
  },
  {
   "cell_type": "code",
   "execution_count": null,
   "id": "8aa10400",
   "metadata": {},
   "outputs": [],
   "source": []
  }
 ],
 "metadata": {
  "kernelspec": {
   "display_name": "Python 3",
   "language": "python",
   "name": "python3"
  },
  "language_info": {
   "codemirror_mode": {
    "name": "ipython",
    "version": 3
   },
   "file_extension": ".py",
   "mimetype": "text/x-python",
   "name": "python",
   "nbconvert_exporter": "python",
   "pygments_lexer": "ipython3",
   "version": "3.7.0"
  }
 },
 "nbformat": 4,
 "nbformat_minor": 5
}
